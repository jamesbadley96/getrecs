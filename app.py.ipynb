{
 "cells": [
  {
   "cell_type": "code",
   "execution_count": 1,
   "id": "4e4247b0",
   "metadata": {},
   "outputs": [
    {
     "name": "stdout",
     "output_type": "stream",
     "text": [
      " * Serving Flask app '__main__'\n",
      " * Debug mode: on\n"
     ]
    },
    {
     "name": "stderr",
     "output_type": "stream",
     "text": [
      "WARNING: This is a development server. Do not use it in a production deployment. Use a production WSGI server instead.\n",
      " * Running on http://127.0.0.1:5000\n",
      "Press CTRL+C to quit\n",
      " * Restarting with watchdog (fsevents)\n",
      "Traceback (most recent call last):\n",
      "  File \"/Users/jamiebadley/anaconda3/lib/python3.10/site-packages/ipykernel_launcher.py\", line 15, in <module>\n",
      "    from ipykernel import kernelapp as app\n",
      "  File \"/Users/jamiebadley/anaconda3/lib/python3.10/site-packages/ipykernel/__init__.py\", line 5, in <module>\n",
      "    from .connect import *  # noqa\n",
      "  File \"/Users/jamiebadley/anaconda3/lib/python3.10/site-packages/ipykernel/connect.py\", line 11, in <module>\n",
      "    import jupyter_client\n",
      "  File \"/Users/jamiebadley/anaconda3/lib/python3.10/site-packages/jupyter_client/__init__.py\", line 8, in <module>\n",
      "    from .asynchronous import AsyncKernelClient  # noqa\n",
      "  File \"/Users/jamiebadley/anaconda3/lib/python3.10/site-packages/jupyter_client/asynchronous/__init__.py\", line 1, in <module>\n",
      "    from .client import AsyncKernelClient  # noqa\n",
      "  File \"/Users/jamiebadley/anaconda3/lib/python3.10/site-packages/jupyter_client/asynchronous/client.py\", line 8, in <module>\n",
      "    from jupyter_client.client import KernelClient\n",
      "  File \"/Users/jamiebadley/anaconda3/lib/python3.10/site-packages/jupyter_client/client.py\", line 21, in <module>\n",
      "    from .connect import ConnectionFileMixin\n",
      "  File \"/Users/jamiebadley/anaconda3/lib/python3.10/site-packages/jupyter_client/connect.py\", line 27, in <module>\n",
      "    from jupyter_core.paths import jupyter_data_dir\n",
      "  File \"/Users/jamiebadley/anaconda3/lib/python3.10/site-packages/jupyter_core/paths.py\", line 19, in <module>\n",
      "    from pathlib import Path\n",
      "  File \"/Users/jamiebadley/anaconda3/lib/python3.10/site-packages/pathlib.py\", line 10, in <module>\n",
      "    from collections import Sequence\n",
      "ImportError: cannot import name 'Sequence' from 'collections' (/Users/jamiebadley/anaconda3/lib/python3.10/collections/__init__.py)\n"
     ]
    },
    {
     "ename": "SystemExit",
     "evalue": "1",
     "output_type": "error",
     "traceback": [
      "An exception has occurred, use %tb to see the full traceback.\n",
      "\u001b[0;31mSystemExit\u001b[0m\u001b[0;31m:\u001b[0m 1\n"
     ]
    },
    {
     "name": "stderr",
     "output_type": "stream",
     "text": [
      "/Users/jamiebadley/anaconda3/lib/python3.10/site-packages/IPython/core/interactiveshell.py:3468: UserWarning: To exit: use 'exit', 'quit', or Ctrl-D.\n",
      "  warn(\"To exit: use 'exit', 'quit', or Ctrl-D.\", stacklevel=1)\n"
     ]
    }
   ],
   "source": [
    "from flask import Flask, render_template, request\n",
    "import spotipy\n",
    "from spotipy.oauth2 import SpotifyOAuth\n",
    "sp = spotipy.Spotify(auth_manager=SpotifyOAuth(client_id=\"5ef3272dcd5e49598a655deb26b81aeb\",\n",
    "                                               client_secret=\"f6b712b3f7c1407396dc3cc2ed9f0e5f\",\n",
    "                                               redirect_uri=\"http://localhost:8080\",\n",
    "                                               scope=\"user-library-read\"))\n",
    "\n",
    "app = Flask(__name__)\n",
    "\n",
    "def get_track_id(track_name, artist_name):\n",
    "    \"\"\"Search for a track by name and artist, and return its Spotify ID.\"\"\"\n",
    "    results = sp.search(q=f'track:{track_name} artist:{artist_name}', type='track')\n",
    "    items = results['tracks']['items']\n",
    "    if not items:\n",
    "        print(\"Can't find track:\", track_name, \"by artist:\", artist_name)\n",
    "        return None\n",
    "    else:\n",
    "        return items[0]['id']  # return the id of the first match\n",
    "\n",
    "def get_recommendations(track_id):\n",
    "    \"\"\"Get recommendations based on a track ID.\"\"\"\n",
    "    if track_id is None:\n",
    "        print(\"Track ID is None. Can't get recommendations.\")\n",
    "        return None\n",
    "    results = sp.recommendations(seed_tracks=[track_id])\n",
    "    track_info = []\n",
    "    for track in results['tracks']:\n",
    "        artist_names = ', '.join([artist['name'] for artist in track['artists']])\n",
    "        genres = ', '.join(sp.artist(track['artists'][0]['id'])['genres'])\n",
    "        track_info.append({'name': track['name'], 'artists': artist_names, 'genres': genres})\n",
    "    return track_info\n",
    "\n",
    "\n",
    "@app.route('/', methods=['GET', 'POST'])\n",
    "def index():\n",
    "    if request.method == 'POST':\n",
    "        track_name = request.form['track_name']\n",
    "        artist_name = request.form['artist_name']\n",
    "        track_id = get_track_id(track_name, artist_name)\n",
    "        recommendations = get_recommendations(track_id)\n",
    "        return render_template('results.html', track_name=track_name, artist_name=artist_name, recommendations=recommendations)\n",
    "    return render_template('index.html')\n",
    "\n",
    "if __name__ == '__main__':\n",
    "    app.run(debug=True, port=5000)\n"
   ]
  },
  {
   "cell_type": "code",
   "execution_count": null,
   "id": "0e4a8f45",
   "metadata": {},
   "outputs": [],
   "source": []
  },
  {
   "cell_type": "code",
   "execution_count": null,
   "id": "4bba6ae8",
   "metadata": {},
   "outputs": [],
   "source": []
  }
 ],
 "metadata": {
  "kernelspec": {
   "display_name": "Python 3 (ipykernel)",
   "language": "python",
   "name": "python3"
  },
  "language_info": {
   "codemirror_mode": {
    "name": "ipython",
    "version": 3
   },
   "file_extension": ".py",
   "mimetype": "text/x-python",
   "name": "python",
   "nbconvert_exporter": "python",
   "pygments_lexer": "ipython3",
   "version": "3.10.9"
  }
 },
 "nbformat": 4,
 "nbformat_minor": 5
}
